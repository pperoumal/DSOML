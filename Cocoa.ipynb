{
 "cells": [
  {
   "cell_type": "markdown",
   "metadata": {
    "collapsed": true
   },
   "source": [
    "# CoCoA :\n",
    "#  Application to SVM\n",
    "# Local SDCA\n",
    "\n",
    "# Philippe Peroumal ENSAE"
   ]
  },
  {
   "cell_type": "code",
   "execution_count": 98,
   "metadata": {
    "collapsed": false
   },
   "outputs": [
    {
     "name": "stdout",
     "output_type": "stream",
     "text": [
      "Populating the interactive namespace from numpy and matplotlib\n"
     ]
    },
    {
     "name": "stderr",
     "output_type": "stream",
     "text": [
      "/Users/philippe/anaconda/lib/python3.5/site-packages/IPython/core/magics/pylab.py:161: UserWarning: pylab import has clobbered these variables: ['e', 'test']\n",
      "`%matplotlib` prevents importing * from pylab and numpy\n",
      "  \"\\n`%matplotlib` prevents importing * from pylab and numpy\"\n"
     ]
    }
   ],
   "source": [
    "import numpy as np\n",
    "%pylab inline\n",
    "import math\n",
    "import concurrent.futures"
   ]
  },
  {
   "cell_type": "markdown",
   "metadata": {},
   "source": [
    "# Local Sdca"
   ]
  },
  {
   "cell_type": "code",
   "execution_count": 79,
   "metadata": {
    "collapsed": false
   },
   "outputs": [],
   "source": [
    "def localSDCA(alpha_input,w_input,A_data_k,b_k,n_samples,H) :\n",
    "    \n",
    "    n_features,n_k=A_data_k.shape\n",
    "    # initialiser\n",
    "    # w_0\n",
    "    # deta_alpha_k=0\n",
    "    w=w_input\n",
    "    d_a=np.zeros(n_k)\n",
    "    \n",
    "    \n",
    "    delta_incr=np.zeros(n_k)\n",
    "    alpha_k=alpha_input\n",
    "    for h in range(H):\n",
    "        # choose i in range( n_k)       \n",
    "        id_x=np.random.randint(0, n_k)  # id_x=i\n",
    "        lambda_p=1  # valeur par defaut\n",
    "        y=b_k[id_x]\n",
    "        \n",
    "        def l_star(u):\n",
    "            if -1<= y*u <= 0:\n",
    "                res= y*u\n",
    "            else :\n",
    "                res=math.inf\n",
    "            return res\n",
    "        \n",
    "        def l_star_grad(u):\n",
    "            if -1<= y*u <= 0:\n",
    "                    res= y\n",
    "            else     :\n",
    "                res=math.inf\n",
    "                \n",
    "            lambdda=1\n",
    "            \n",
    "           \n",
    "            \n",
    "        # We have a closed form for the solution http://www.vlfeat.org/api/svm-sdca.html\n",
    "        alpha_old=alpha_k[id_x]\n",
    "        delta= y* max(0,min (1,y*(delta_incr[id_x]+ alpha_old  )    )) -alpha_old\n",
    "            \n",
    "        # update alpha_i(h)\n",
    "        alpha_k[id_x]= alpha_k[id_x]+delta\n",
    "        \n",
    "        # update delta alpha k\n",
    "        delta_incr[id_x]=delta_incr[id_x]+delta\n",
    "        \n",
    "        #update w_h\n",
    "        w=w+1/(lambdda*n_samples)*delta_incr.dot(A_data_k[::,id_x])\n",
    "        \n",
    "    delta_w=A_data_k.dot(delta_incr)   \n",
    "            \n",
    "    return  delta_incr,delta_w  \n",
    "    "
   ]
  },
  {
   "cell_type": "code",
   "execution_count": 95,
   "metadata": {
    "collapsed": true
   },
   "outputs": [],
   "source": [
    "def localSDCA_bis(alpha_input,w_input,A_data_k,b_k,n_samples,H):\n",
    "    delta_incr,delta_w=localSDCA(alpha_input,w_input,A_data_k,b_k,n_samples,H) \n",
    "    alpha_input=alpha_input+1/K*delta_incr\n",
    "    return alpha_input,delta_w"
   ]
  },
  {
   "cell_type": "code",
   "execution_count": 129,
   "metadata": {
    "collapsed": false
   },
   "outputs": [],
   "source": [
    "def Cocoa(K,A_data,b,nb_iter,H) :\n",
    "    \n",
    "    n_features,n_samples=A_data.shape\n",
    "    \n",
    "    # split les données\n",
    "    A_data_split=np.array_split(A_data,K) \n",
    "    y_split=np.array_split(b,K)\n",
    "    n_k=[len(y_split[k]) for k in range(len(y_split))  ]\n",
    "    delta_w_vec= np.zeros(K)\n",
    "    #paramatères des SDCA locales\n",
    "    alpha_input_vec=[np.zeros(n_k) for j in n_k]    \n",
    "    delta_w=np.zeros(n_features)\n",
    "    \n",
    "    for iter in range(nb_iter) :\n",
    "        futures = []\n",
    "        with concurrent.futures.ProcessPoolExecutor() as executor:\n",
    "            for k in range(K) :\n",
    "                futures.append(executor.submit(localSDCA_bis,alpha_input_vec[k],w_input,A_data_split[k],b_k,n_samples,H  ))\n",
    "            concurrent.futures.wait(futures)\n",
    "            # attente des workers\n",
    "            \n",
    "            for k in range(K) :\n",
    "                alpha_input[k],delta_w[K]= futures[k].result()\n",
    "            # on recupère leurs resultats\n",
    "            \n",
    "            # on réduit\n",
    "            w_input= w_input+ 1/K*delta_w.sum()    "
   ]
  },
  {
   "cell_type": "markdown",
   "metadata": {},
   "source": [
    "# A toy dataset"
   ]
  },
  {
   "cell_type": "code",
   "execution_count": 123,
   "metadata": {
    "collapsed": true
   },
   "outputs": [],
   "source": [
    "n_samples, n_features = 100, 10\n",
    "A_data = np.random.randn(n_features,n_samples)\n",
    "w = np.random.randn(n_samples)\n",
    "b = np.sign(A.dot(w) + np.random.randn(n_features))"
   ]
  },
  {
   "cell_type": "code",
   "execution_count": null,
   "metadata": {
    "collapsed": true
   },
   "outputs": [],
   "source": []
  },
  {
   "cell_type": "code",
   "execution_count": null,
   "metadata": {
    "collapsed": true
   },
   "outputs": [],
   "source": []
  },
  {
   "cell_type": "code",
   "execution_count": null,
   "metadata": {
    "collapsed": true
   },
   "outputs": [],
   "source": [
    "nb_iter=3\n",
    "H=3\n",
    "Cocoa(K,A_data,b,nb_iter,H)"
   ]
  },
  {
   "cell_type": "markdown",
   "metadata": {},
   "source": [
    "# A real data set"
   ]
  },
  {
   "cell_type": "code",
   "execution_count": 110,
   "metadata": {
    "collapsed": true
   },
   "outputs": [],
   "source": [
    "import os, hashlib,urllib\n",
    "\n",
    "# load a large, sparse dataset such as RCV1\n",
    "def load_rcv1(md5_check=True):\n",
    "    from os.path import expanduser\n",
    "    home = expanduser(\"~\")\n",
    "    dir_name = os.path.join(home, 'copt_data')\n",
    "    if not os.path.exists(dir_name):\n",
    "        os.makedirs(dir_name)\n",
    "    file_path = os.path.join(dir_name, 'rcv1_full.binary.bz2')\n",
    "    if not os.path.exists(file_path):\n",
    "        print('RCV1 dataset is not present in data folder. Downloading it ...')\n",
    "        url = 'http://s3-eu-west-1.amazonaws.com/copt.bianp.net/datasets/rcv1_full.binary.bz2'\n",
    "        urllib.request.urlretrieve(url, file_path)\n",
    "        print('Finished downloading')\n",
    "    if md5_check:\n",
    "        h = hashlib.md5(open(file_path, 'rb').read()).hexdigest()\n",
    "        if not h == '6131cf16515e9cce08d112c880b6b817':\n",
    "            print('MD5 hash do not coincide')\n",
    "            print('Removing file and re-downloading')\n",
    "            os.remove(file_path)\n",
    "            return load_rcv1()\n",
    "    from sklearn import datasets\n",
    "    return datasets.load_svmlight_file(file_path)"
   ]
  },
  {
   "cell_type": "code",
   "execution_count": 132,
   "metadata": {
    "collapsed": false
   },
   "outputs": [],
   "source": [
    "A_data, b = load_rcv1()"
   ]
  },
  {
   "cell_type": "code",
   "execution_count": 125,
   "metadata": {
    "collapsed": false
   },
   "outputs": [
    {
     "data": {
      "text/plain": [
       "(10, 100)"
      ]
     },
     "execution_count": 125,
     "metadata": {},
     "output_type": "execute_result"
    }
   ],
   "source": [
    "A_data.shape"
   ]
  },
  {
   "cell_type": "code",
   "execution_count": 115,
   "metadata": {
    "collapsed": false
   },
   "outputs": [],
   "source": [
    "nb_iter=3\n",
    "H=3"
   ]
  },
  {
   "cell_type": "code",
   "execution_count": null,
   "metadata": {
    "collapsed": true
   },
   "outputs": [],
   "source": []
  }
 ],
 "metadata": {
  "anaconda-cloud": {},
  "kernelspec": {
   "display_name": "Python [conda root]",
   "language": "python",
   "name": "conda-root-py"
  },
  "language_info": {
   "codemirror_mode": {
    "name": "ipython",
    "version": 3
   },
   "file_extension": ".py",
   "mimetype": "text/x-python",
   "name": "python",
   "nbconvert_exporter": "python",
   "pygments_lexer": "ipython3",
   "version": "3.5.2"
  }
 },
 "nbformat": 4,
 "nbformat_minor": 1
}
